{
  "nbformat": 4,
  "nbformat_minor": 0,
  "metadata": {
    "colab": {
      "provenance": [],
      "authorship_tag": "ABX9TyNpUXgDLztCagfN8QQCPEmL",
      "include_colab_link": true
    },
    "kernelspec": {
      "name": "python3",
      "display_name": "Python 3"
    },
    "language_info": {
      "name": "python"
    }
  },
  "cells": [
    {
      "cell_type": "markdown",
      "metadata": {
        "id": "view-in-github",
        "colab_type": "text"
      },
      "source": [
        "<a href=\"https://colab.research.google.com/github/Harithelamin/Evolutionary-AI/blob/main/%5Ccode%5Cgym.ipynb\" target=\"_parent\"><img src=\"https://colab.research.google.com/assets/colab-badge.svg\" alt=\"Open In Colab\"/></a>"
      ]
    },
    {
      "cell_type": "code",
      "source": [
        "import gym\n",
        "import numpy as np\n",
        "import matplotlib.pyplot as plt\n",
        "import gnwrapper\n",
        "from IPython import display as ipythondisplay\n"
      ],
      "metadata": {
        "id": "axDkDq_0dx5t"
      },
      "execution_count": null,
      "outputs": []
    },
    {
      "cell_type": "code",
      "source": [
        "!apt update && apt install xvfb"
      ],
      "metadata": {
        "colab": {
          "base_uri": "https://localhost:8080/"
        },
        "id": "o-WlKlp8QCBA",
        "outputId": "c52917f3-5016-4976-a791-7a8f8d3b60b4"
      },
      "execution_count": null,
      "outputs": [
        {
          "output_type": "stream",
          "name": "stdout",
          "text": [
            "\u001b[33m\r0% [Working]\u001b[0m\r            \rHit:1 https://cloud.r-project.org/bin/linux/ubuntu bionic-cran40/ InRelease\n",
            "\u001b[33m\r0% [Connecting to archive.ubuntu.com] [Connecting to security.ubuntu.com (185.1\u001b[0m\u001b[33m\r0% [1 InRelease gpgv 3,626 B] [Connecting to archive.ubuntu.com] [Connecting to\u001b[0m\r                                                                               \rIgn:2 https://developer.download.nvidia.com/compute/machine-learning/repos/ubuntu1804/x86_64  InRelease\n",
            "\u001b[33m\r0% [1 InRelease gpgv 3,626 B] [Connecting to archive.ubuntu.com] [Connecting to\u001b[0m\r                                                                               \rHit:3 https://developer.download.nvidia.com/compute/cuda/repos/ubuntu1804/x86_64  InRelease\n",
            "\u001b[33m\r0% [1 InRelease gpgv 3,626 B] [Connecting to archive.ubuntu.com] [Connecting to\u001b[0m\r                                                                               \rHit:4 https://developer.download.nvidia.com/compute/machine-learning/repos/ubuntu1804/x86_64  Release\n",
            "\u001b[33m\r0% [1 InRelease gpgv 3,626 B] [Connecting to archive.ubuntu.com] [Connecting to\u001b[0m\r                                                                               \rHit:5 http://security.ubuntu.com/ubuntu bionic-security InRelease\n",
            "Hit:6 http://ppa.launchpad.net/c2d4u.team/c2d4u4.0+/ubuntu bionic InRelease\n",
            "Hit:7 http://archive.ubuntu.com/ubuntu bionic InRelease\n",
            "Hit:8 http://archive.ubuntu.com/ubuntu bionic-updates InRelease\n",
            "Hit:9 http://ppa.launchpad.net/cran/libgit2/ubuntu bionic InRelease\n",
            "Hit:11 http://archive.ubuntu.com/ubuntu bionic-backports InRelease\n",
            "Hit:12 http://ppa.launchpad.net/deadsnakes/ppa/ubuntu bionic InRelease\n",
            "Hit:13 http://ppa.launchpad.net/graphics-drivers/ppa/ubuntu bionic InRelease\n",
            "Reading package lists... Done\n",
            "Building dependency tree       \n",
            "Reading state information... Done\n",
            "40 packages can be upgraded. Run 'apt list --upgradable' to see them.\n",
            "Reading package lists... Done\n",
            "Building dependency tree       \n",
            "Reading state information... Done\n",
            "xvfb is already the newest version (2:1.19.6-1ubuntu4.11).\n",
            "The following package was automatically installed and is no longer required:\n",
            "  libnvidia-common-460\n",
            "Use 'apt autoremove' to remove it.\n",
            "0 upgraded, 0 newly installed, 0 to remove and 40 not upgraded.\n"
          ]
        }
      ]
    },
    {
      "cell_type": "code",
      "source": [
        "!pip install gym-notebook-wrapper\n",
        "!pip install pygame\n"
      ],
      "metadata": {
        "colab": {
          "base_uri": "https://localhost:8080/"
        },
        "id": "xrDaz9TxQPNp",
        "outputId": "fd7ae857-9705-4924-f92a-8edc24d0ff79"
      },
      "execution_count": null,
      "outputs": [
        {
          "output_type": "stream",
          "name": "stdout",
          "text": [
            "Looking in indexes: https://pypi.org/simple, https://us-python.pkg.dev/colab-wheels/public/simple/\n",
            "Collecting gym-notebook-wrapper\n",
            "  Downloading gym_notebook_wrapper-1.3.2-py3-none-any.whl (9.8 kB)\n",
            "Requirement already satisfied: matplotlib in /usr/local/lib/python3.7/dist-packages (from gym-notebook-wrapper) (3.2.2)\n",
            "Collecting pyvirtualdisplay\n",
            "  Downloading PyVirtualDisplay-3.0-py3-none-any.whl (15 kB)\n",
            "Requirement already satisfied: gym in /usr/local/lib/python3.7/dist-packages (from gym-notebook-wrapper) (0.25.2)\n",
            "Requirement already satisfied: ipython in /usr/local/lib/python3.7/dist-packages (from gym-notebook-wrapper) (7.9.0)\n",
            "Requirement already satisfied: numpy>=1.18.0 in /usr/local/lib/python3.7/dist-packages (from gym->gym-notebook-wrapper) (1.21.6)\n",
            "Requirement already satisfied: importlib-metadata>=4.8.0 in /usr/local/lib/python3.7/dist-packages (from gym->gym-notebook-wrapper) (5.0.0)\n",
            "Requirement already satisfied: gym-notices>=0.0.4 in /usr/local/lib/python3.7/dist-packages (from gym->gym-notebook-wrapper) (0.0.8)\n",
            "Requirement already satisfied: cloudpickle>=1.2.0 in /usr/local/lib/python3.7/dist-packages (from gym->gym-notebook-wrapper) (1.5.0)\n",
            "Requirement already satisfied: typing-extensions>=3.6.4 in /usr/local/lib/python3.7/dist-packages (from importlib-metadata>=4.8.0->gym->gym-notebook-wrapper) (4.1.1)\n",
            "Requirement already satisfied: zipp>=0.5 in /usr/local/lib/python3.7/dist-packages (from importlib-metadata>=4.8.0->gym->gym-notebook-wrapper) (3.9.0)\n",
            "Requirement already satisfied: pexpect in /usr/local/lib/python3.7/dist-packages (from ipython->gym-notebook-wrapper) (4.8.0)\n",
            "Requirement already satisfied: pickleshare in /usr/local/lib/python3.7/dist-packages (from ipython->gym-notebook-wrapper) (0.7.5)\n",
            "Requirement already satisfied: prompt-toolkit<2.1.0,>=2.0.0 in /usr/local/lib/python3.7/dist-packages (from ipython->gym-notebook-wrapper) (2.0.10)\n",
            "Requirement already satisfied: pygments in /usr/local/lib/python3.7/dist-packages (from ipython->gym-notebook-wrapper) (2.6.1)\n",
            "Requirement already satisfied: backcall in /usr/local/lib/python3.7/dist-packages (from ipython->gym-notebook-wrapper) (0.2.0)\n",
            "Collecting jedi>=0.10\n",
            "  Downloading jedi-0.18.1-py2.py3-none-any.whl (1.6 MB)\n",
            "\u001b[K     |████████████████████████████████| 1.6 MB 8.1 MB/s \n",
            "\u001b[?25hRequirement already satisfied: setuptools>=18.5 in /usr/local/lib/python3.7/dist-packages (from ipython->gym-notebook-wrapper) (57.4.0)\n",
            "Requirement already satisfied: traitlets>=4.2 in /usr/local/lib/python3.7/dist-packages (from ipython->gym-notebook-wrapper) (5.1.1)\n",
            "Requirement already satisfied: decorator in /usr/local/lib/python3.7/dist-packages (from ipython->gym-notebook-wrapper) (4.4.2)\n",
            "Requirement already satisfied: parso<0.9.0,>=0.8.0 in /usr/local/lib/python3.7/dist-packages (from jedi>=0.10->ipython->gym-notebook-wrapper) (0.8.3)\n",
            "Requirement already satisfied: six>=1.9.0 in /usr/local/lib/python3.7/dist-packages (from prompt-toolkit<2.1.0,>=2.0.0->ipython->gym-notebook-wrapper) (1.15.0)\n",
            "Requirement already satisfied: wcwidth in /usr/local/lib/python3.7/dist-packages (from prompt-toolkit<2.1.0,>=2.0.0->ipython->gym-notebook-wrapper) (0.2.5)\n",
            "Requirement already satisfied: pyparsing!=2.0.4,!=2.1.2,!=2.1.6,>=2.0.1 in /usr/local/lib/python3.7/dist-packages (from matplotlib->gym-notebook-wrapper) (3.0.9)\n",
            "Requirement already satisfied: kiwisolver>=1.0.1 in /usr/local/lib/python3.7/dist-packages (from matplotlib->gym-notebook-wrapper) (1.4.4)\n",
            "Requirement already satisfied: python-dateutil>=2.1 in /usr/local/lib/python3.7/dist-packages (from matplotlib->gym-notebook-wrapper) (2.8.2)\n",
            "Requirement already satisfied: cycler>=0.10 in /usr/local/lib/python3.7/dist-packages (from matplotlib->gym-notebook-wrapper) (0.11.0)\n",
            "Requirement already satisfied: ptyprocess>=0.5 in /usr/local/lib/python3.7/dist-packages (from pexpect->ipython->gym-notebook-wrapper) (0.7.0)\n",
            "Installing collected packages: jedi, pyvirtualdisplay, gym-notebook-wrapper\n",
            "Successfully installed gym-notebook-wrapper-1.3.2 jedi-0.18.1 pyvirtualdisplay-3.0\n",
            "Looking in indexes: https://pypi.org/simple, https://us-python.pkg.dev/colab-wheels/public/simple/\n",
            "Collecting pygame\n",
            "  Downloading pygame-2.1.2-cp37-cp37m-manylinux_2_17_x86_64.manylinux2014_x86_64.whl (21.8 MB)\n",
            "\u001b[K     |████████████████████████████████| 21.8 MB 1.7 MB/s \n",
            "\u001b[?25hInstalling collected packages: pygame\n",
            "Successfully installed pygame-2.1.2\n"
          ]
        }
      ]
    },
    {
      "cell_type": "code",
      "source": [
        "env = gnwrapper.Monitor(gym.make('CartPole-v1'))         \n",
        "obs = env.reset()\n",
        "for _ in range(100):\n",
        "        o, r, d, i = env.step(env.action_space.sample())\n",
        "        if d:\n",
        "          env.reset()\n",
        "env.display()\n",
        "\n",
        "\n"
      ],
      "metadata": {
        "colab": {
          "base_uri": "https://localhost:8080/",
          "height": 1000
        },
        "id": "PTezNwNfQWUF",
        "outputId": "8b90ba9b-485e-4e7d-ed82-f3916d0003ab"
      },
      "execution_count": null,
      "outputs": [
        {
          "output_type": "stream",
          "name": "stderr",
          "text": [
            "/usr/local/lib/python3.7/dist-packages/gym/wrappers/monitoring/video_recorder.py:79: DeprecationWarning: \u001b[33mWARN: Recording ability for environment CartPole-v1 initialized with `render_mode=None` is marked as deprecated and will be removed in the future.\u001b[0m\n",
            "  f\"Recording ability for environment {env.spec.id} initialized with `render_mode=None` is marked \"\n",
            "/usr/local/lib/python3.7/dist-packages/gym/core.py:44: DeprecationWarning: \u001b[33mWARN: The argument mode in render method is deprecated; use render_mode during environment initialization instead.\n",
            "See here for more information: https://www.gymlibrary.ml/content/api/\u001b[0m\n",
            "  \"The argument mode in render method is deprecated; \"\n",
            "/usr/local/lib/python3.7/dist-packages/gym/core.py:44: DeprecationWarning: \u001b[33mWARN: The argument mode in render method is deprecated; use render_mode during environment initialization instead.\n",
            "See here for more information: https://www.gymlibrary.ml/content/api/\u001b[0m\n",
            "  \"The argument mode in render method is deprecated; \"\n",
            "/usr/local/lib/python3.7/dist-packages/gym/wrappers/monitoring/video_recorder.py:79: DeprecationWarning: \u001b[33mWARN: Recording ability for environment CartPole-v1 initialized with `render_mode=None` is marked as deprecated and will be removed in the future.\u001b[0m\n",
            "  f\"Recording ability for environment {env.spec.id} initialized with `render_mode=None` is marked \"\n",
            "/usr/local/lib/python3.7/dist-packages/gym/core.py:44: DeprecationWarning: \u001b[33mWARN: The argument mode in render method is deprecated; use render_mode during environment initialization instead.\n",
            "See here for more information: https://www.gymlibrary.ml/content/api/\u001b[0m\n",
            "  \"The argument mode in render method is deprecated; \"\n"
          ]
        },
        {
          "output_type": "display_data",
          "data": {
            "text/plain": [
              "'rl-video-episode-0.mp4'"
            ],
            "application/vnd.google.colaboratory.intrinsic+json": {
              "type": "string"
            }
          },
          "metadata": {}
        },
        {
          "output_type": "display_data",
          "data": {
            "text/plain": [
              "<IPython.core.display.HTML object>"
            ],
            "text/html": [
              "\n",
              "            <video alt=\"test\" controls>\n",
              "            <source src=\"data:video/mp4;base64,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\" type=\"video/mp4\" />\n",
              "            </video>\n",
              "            "
            ]
          },
          "metadata": {}
        },
        {
          "output_type": "display_data",
          "data": {
            "text/plain": [
              "'rl-video-episode-1.mp4'"
            ],
            "application/vnd.google.colaboratory.intrinsic+json": {
              "type": "string"
            }
          },
          "metadata": {}
        },
        {
          "output_type": "display_data",
          "data": {
            "text/plain": [
              "<IPython.core.display.HTML object>"
            ],
            "text/html": [
              "\n",
              "            <video alt=\"test\" controls>\n",
              "            <source src=\"data:video/mp4;base64,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\" type=\"video/mp4\" />\n",
              "            </video>\n",
              "            "
            ]
          },
          "metadata": {}
        }
      ]
    }
  ]
}